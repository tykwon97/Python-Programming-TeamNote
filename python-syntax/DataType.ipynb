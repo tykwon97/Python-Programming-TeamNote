{
 "cells": [
  {
   "cell_type": "code",
   "execution_count": 4,
   "metadata": {},
   "outputs": [
    {
     "name": "stdout",
     "output_type": "stream",
     "text": [
      "45\n",
      "\n",
      "Hello World\n",
      "Hello World\n",
      "Hello World\n",
      "Hello World\n",
      "Hello World\n"
     ]
    }
   ],
   "source": [
    "# 언더바(_)\n",
    "\n",
    "#파이썬 자료구조 / 알고리즘 에서는 반복을 수행하되 반복을 위한 변수의 값을 무시하고자 할 때 언더바(_)를 자주 사용한다.\n",
    "#예를 들어 1부터 9까지의 자연수를 더할 때는 첫번째 예시처럼 작성하지만,\n",
    "#단순히 \"Hello World\"를 5번 출력할 때는 두번째 처럼 언더바(_)를 이용하여 무시할 수 있다.\n",
    "\n",
    "summary = 0\n",
    "for i in range(1,10):\n",
    "    summary += i\n",
    "print(summary)\n",
    "print()\n",
    "\n",
    "for _ in range(5):\n",
    "    print(\"Hello World\")"
   ]
  },
  {
   "cell_type": "code",
   "execution_count": 5,
   "metadata": {},
   "outputs": [
    {
     "name": "stdout",
     "output_type": "stream",
     "text": [
      "[[0, 0, 0, 0], [0, 0, 0, 0], [0, 0, 0, 0]]\n",
      "\n",
      "[[0, 0, 0, 0], [0, 0, 0, 0], [0, 0, 0, 0]]\n",
      "[[0, 5, 0, 0], [0, 5, 0, 0], [0, 5, 0, 0]]\n"
     ]
    }
   ],
   "source": [
    "#리스트 컴프리헨션\n",
    "\n",
    "# N x M 크기의 2차원 리스트 초기화\n",
    "\n",
    "n = 3\n",
    "m = 4\n",
    "array = [[0] * m for _ in range(n)]\n",
    "print(array)\n",
    "print()\n",
    "\n",
    "# N x M 크기의 2차원 리스트 초기화 (잘못된 방법)\n",
    "n = 3\n",
    "m = 4\n",
    "array = [[0] * m] * n\n",
    "print(array)\n",
    "array[1][1] = 5\n",
    "print(array)\n",
    "#내부적으로 포함된 3개의 리스트가 모두 동일한 객체에 대한 3개의 레퍼런스로 인식되기 때문"
   ]
  },
  {
   "cell_type": "code",
   "execution_count": 9,
   "metadata": {},
   "outputs": [
    {
     "name": "stdout",
     "output_type": "stream",
     "text": [
      "{1, 2, 3, 4, 5}\n",
      "{1, 2, 3, 4, 5}\n",
      "\n",
      "{1, 2, 3, 4, 5, 6, 7}\n",
      "{3, 4, 5}\n",
      "{1, 2}\n"
     ]
    }
   ],
   "source": [
    "#집합 자료형 : 중복 허용x, 순서x\n",
    "\n",
    "#집합 자료형 초기화 방법 1\n",
    "data = set([1,1,2,3,4,4,5])\n",
    "print(data)\n",
    "#집합 자료형 초기화 방법 2\n",
    "data = {1,1,2,3,4,4,5}\n",
    "print(data)\n",
    "print()\n",
    "\n",
    "#집합 자료형 연산 : 합집합, 교집합, 차집합\n",
    "a = set([1,2,3,4,5])\n",
    "b = set([3,4,5,6,7])\n",
    "print(a|b) #합집합\n",
    "print(a&b) #교집합\n",
    "print(a-b) #차집합"
   ]
  },
  {
   "cell_type": "code",
   "execution_count": null,
   "metadata": {},
   "outputs": [],
   "source": []
  }
 ],
 "metadata": {
  "kernelspec": {
   "display_name": "Python 3",
   "language": "python",
   "name": "python3"
  },
  "language_info": {
   "codemirror_mode": {
    "name": "ipython",
    "version": 3
   },
   "file_extension": ".py",
   "mimetype": "text/x-python",
   "name": "python",
   "nbconvert_exporter": "python",
   "pygments_lexer": "ipython3",
   "version": "3.8.5"
  }
 },
 "nbformat": 4,
 "nbformat_minor": 4
}
