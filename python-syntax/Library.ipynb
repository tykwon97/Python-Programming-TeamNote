{
 "cells": [
  {
   "cell_type": "code",
   "execution_count": 7,
   "metadata": {},
   "outputs": [
    {
     "name": "stdout",
     "output_type": "stream",
     "text": [
      "[('A', 'B', 'C'), ('A', 'C', 'B'), ('B', 'A', 'C'), ('B', 'C', 'A'), ('C', 'A', 'B'), ('C', 'B', 'A')]\n",
      "[('A', 'B'), ('A', 'C'), ('B', 'C')]\n",
      "[('A', 'A'), ('A', 'B'), ('A', 'C'), ('B', 'A'), ('B', 'B'), ('B', 'C'), ('C', 'A'), ('C', 'B'), ('C', 'C')]\n",
      "[('A', 'A'), ('A', 'B'), ('A', 'C'), ('B', 'B'), ('B', 'C'), ('C', 'C')]\n"
     ]
    }
   ],
   "source": [
    "#itertools : 반복되는 데이터 처리\n",
    "\n",
    "#permutations (순열) : 객체에서 r개의 데이터를 뽑아 일렬로 나열하는 모든 경우(순열) 계산\n",
    "from itertools import permutations\n",
    "data = ['A','B','C'] #데이터 준비\n",
    "result = list(permutations(data,3)) #모든 순열 구하기\n",
    "print(result)\n",
    "\n",
    "#combinations (조합) : 객체에서 r개의 데이터를 뽑아 순서를 고려하지 않고 나열하는 모든 경우(조합) 계산\n",
    "from itertools import combinations\n",
    "data = ['A','B','C'] #데이터 준비\n",
    "result = list(combinations(data,2)) #2개를 뽑는 모든 조합 구하기\n",
    "print(result)\n",
    "\n",
    "#product : permutations와 같이 r개의 데이터를 뽑아 일렬로 나열하는 모든 경우(순열) 계산 + 원소를 중복하여 뽑음\n",
    "from itertools import product\n",
    "data = ['A','B','C'] #데이터 준비\n",
    "result = list(product(data,repeat=2)) #2개를 뽑는 모든 순열 구하기(중복 허용)\n",
    "print(result)\n",
    "\n",
    "#combinations_with_replacement : combinations와 같이 r개의 데이터를 뽑아 순서를 고려하지 않고 나열하는 모든 경우(조합)계산 + 중복 허용\n",
    "from itertools import combinations_with_replacement\n",
    "data = ['A','B','C'] #데이터 준비\n",
    "result = list(combinations_with_replacement(data,2)) #2개를 뽑는 모든 조합 구하기(중복 허용)\n",
    "print(result)"
   ]
  },
  {
   "cell_type": "code",
   "execution_count": null,
   "metadata": {},
   "outputs": [],
   "source": [
    "#heapq\n",
    "#힙기능 사용하기"
   ]
  }
 ],
 "metadata": {
  "kernelspec": {
   "display_name": "Python 3",
   "language": "python",
   "name": "python3"
  },
  "language_info": {
   "codemirror_mode": {
    "name": "ipython",
    "version": 3
   },
   "file_extension": ".py",
   "mimetype": "text/x-python",
   "name": "python",
   "nbconvert_exporter": "python",
   "pygments_lexer": "ipython3",
   "version": "3.8.5"
  }
 },
 "nbformat": 4,
 "nbformat_minor": 4
}
