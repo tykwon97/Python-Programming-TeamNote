{
 "cells": [
  {
   "cell_type": "code",
   "execution_count": 1,
   "metadata": {},
   "outputs": [
    {
     "name": "stdout",
     "output_type": "stream",
     "text": [
      "10\n",
      "10\n"
     ]
    }
   ],
   "source": [
    "#람다 표현식\n",
    "\n",
    "def add(a,b):\n",
    "    return a + b\n",
    "\n",
    "#일반적인 add()메소드 사용\n",
    "print(add(3,7))\n",
    "\n",
    "#람다 표현식으로 구현한 add() 메소드\n",
    "print((lambda a,b:a+b)(3,7))"
   ]
  }
 ],
 "metadata": {
  "kernelspec": {
   "display_name": "Python 3",
   "language": "python",
   "name": "python3"
  },
  "language_info": {
   "codemirror_mode": {
    "name": "ipython",
    "version": 3
   },
   "file_extension": ".py",
   "mimetype": "text/x-python",
   "name": "python",
   "nbconvert_exporter": "python",
   "pygments_lexer": "ipython3",
   "version": "3.8.5"
  }
 },
 "nbformat": 4,
 "nbformat_minor": 4
}
